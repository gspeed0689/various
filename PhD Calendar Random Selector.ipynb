{
 "cells": [
  {
   "cell_type": "markdown",
   "metadata": {},
   "source": [
    "I need to schedule meetings with PhDs on the services I offer for them as PhDs. I created a master calendar of available time slots I would block out to present for them. I have 6 groups of PhDs, and I don't want to supply them with all of the dates and slots, I want to only provide them a selection of those dates. I don't want to go too far with randomly selecting, but I don't want to do the selection myself, so I wrote this to take the available events and output new calendars per group. \n",
    "\n",
    "First off, import the first thing I know I'll need, `random.choice`, and point to the calendar file for the master schedule. "
   ]
  },
  {
   "cell_type": "code",
   "execution_count": null,
   "metadata": {},
   "outputs": [],
   "source": [
    "from random import choice as rc\n",
    "\n",
    "calendar = r\"C:\\Users\\SPEED001\\Documents\\GitHub\\random\\PhDCalendar.ics\""
   ]
  },
  {
   "cell_type": "markdown",
   "metadata": {},
   "source": [
    "I have the different groups in an excel table, but I don't really need to import the actual file, I can just split a string by newline. "
   ]
  },
  {
   "cell_type": "code",
   "execution_count": null,
   "metadata": {},
   "outputs": [],
   "source": [
    "phd_groups_txt = \"\"\"Energy and Resources\n",
    "Economic Geography, Geography Education, International Development Studies, and Spatial Planning\n",
    "Environmental Governance\n",
    "Envrionmental Sciences\n",
    "Innovation Studies and Urban Futures Studio\n",
    "Urban Geography\"\"\"\n",
    "phd_groups = phd_groups_txt.split(\"\\n\")\n",
    "print(phd_groups)"
   ]
  },
  {
   "cell_type": "markdown",
   "metadata": {},
   "source": [
    "Read in the calendar file. "
   ]
  },
  {
   "cell_type": "code",
   "execution_count": null,
   "metadata": {},
   "outputs": [],
   "source": [
    "with open(calendar, \"r\") as fcal: \n",
    "    calendar_txt = fcal.read()"
   ]
  },
  {
   "cell_type": "markdown",
   "metadata": {},
   "source": [
    "Get a preview of the file."
   ]
  },
  {
   "cell_type": "code",
   "execution_count": null,
   "metadata": {},
   "outputs": [],
   "source": [
    "print(calendar_txt[:200])"
   ]
  },
  {
   "cell_type": "markdown",
   "metadata": {},
   "source": [
    "Split the calendar up into events. I don't want to  really change much, so I just split the calendar by `BEGIN:VEVENT`, `0` in the split list is the header of the calendar file, and the ret are all of the individual events, which I need to add `BEGIN:VEVENT` back in for later. "
   ]
  },
  {
   "cell_type": "code",
   "execution_count": null,
   "metadata": {
    "scrolled": true
   },
   "outputs": [],
   "source": [
    "events_raw = calendar_txt.split(\"BEGIN:VEVENT\")\n",
    "ical_header = events_raw[0]\n",
    "events = [\"BEGIN:VEVENT\" + x.replace(\"END:VCALENDAR\",\"\") for x in events_raw[1:]]\n",
    "for event in events:\n",
    "    print(\"#\"*80)\n",
    "    print(event)"
   ]
  },
  {
   "cell_type": "markdown",
   "metadata": {},
   "source": [
    "Microsoft FindTime gave me a note that 20 is the most number of options to give, so I went with giving each group a quarter of the results (line 19).\n",
    "\n",
    "I also made a separate dictionary to count the number of times I gave out an event, and then made a function to list all of the events that were used the max number of times. \n",
    "\n",
    "Then at the end I initialize the events available for a group as an empty list, create a list of items that are already in the list or have been used more than 2 times (line 21). After that, `random.choice` a new event and add it to the current groups list. "
   ]
  },
  {
   "cell_type": "code",
   "execution_count": null,
   "metadata": {},
   "outputs": [],
   "source": [
    "import math\n",
    "\n",
    "event_usage_dict = {}\n",
    "\n",
    "for event in events:\n",
    "    event_usage_dict[event] = 0\n",
    "\n",
    "date_dict = {}\n",
    "\n",
    "def morethan(counterdict, maxv=3):\n",
    "    exception_list = []\n",
    "    for entry in counterdict.keys():\n",
    "        if counterdict[entry] >= maxv:\n",
    "            exception_list.append(entry)\n",
    "    return(exception_list)    \n",
    "\n",
    "for group in phd_groups:\n",
    "    date_dict[group] = []\n",
    "    n = math.ceil(len(events)/4)\n",
    "    for i in range(n):\n",
    "        negate_list = date_dict[group] + morethan(event_usage_dict, 2)\n",
    "        available_event_list = [x for x in events if x not in negate_list]\n",
    "        choice = rc(available_event_list)\n",
    "        event_usage_dict[choice] += 1\n",
    "        date_dict[group].append(choice)\n",
    "    print(len(date_dict[group]))\n",
    "    \n",
    "print(date_dict)"
   ]
  },
  {
   "cell_type": "code",
   "execution_count": null,
   "metadata": {
    "scrolled": true
   },
   "outputs": [],
   "source": [
    "print(event_usage_dict)"
   ]
  },
  {
   "cell_type": "code",
   "execution_count": null,
   "metadata": {},
   "outputs": [],
   "source": [
    "print(ical_header)"
   ]
  },
  {
   "cell_type": "markdown",
   "metadata": {},
   "source": [
    "Here I just write out the different group lists to a file, replacing the name of the original calendar's heading with the current group. "
   ]
  },
  {
   "cell_type": "code",
   "execution_count": null,
   "metadata": {
    "scrolled": true
   },
   "outputs": [],
   "source": [
    "import os\n",
    "odir = r\"C:\\Users\\SPEED001\\Documents\\GitHub\\random\"\n",
    "for group in phd_groups:\n",
    "    ofname = odir + os.sep + group + \".ics\"\n",
    "    new_cal_text = \"\"\n",
    "    new_cal_text += ical_header.replace(\"PhD Training Time Slots\", f\"{group} Time Slots\")\n",
    "    for event in date_dict[group]:\n",
    "        new_cal_text += event\n",
    "    new_cal_text += \"END:VCALENDAR\"\n",
    "    #print(new_cal_text)\n",
    "    with open(ofname, \"w\") as newcal:\n",
    "        newcal.write(new_cal_text)"
   ]
  }
 ],
 "metadata": {
  "kernelspec": {
   "display_name": "Python 3 (ipykernel)",
   "language": "python",
   "name": "python3"
  },
  "language_info": {
   "codemirror_mode": {
    "name": "ipython",
    "version": 3
   },
   "file_extension": ".py",
   "mimetype": "text/x-python",
   "name": "python",
   "nbconvert_exporter": "python",
   "pygments_lexer": "ipython3",
   "version": "3.9.11"
  }
 },
 "nbformat": 4,
 "nbformat_minor": 4
}
