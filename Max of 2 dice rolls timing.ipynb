{
 "cells": [
  {
   "cell_type": "markdown",
   "metadata": {},
   "source": [
    "While watching a Matt Parker video on the average maximum value of two dice rolls, he had a python script that ran almost instantly and supposedly chose the max of 2 dice rolls a million times and averaged them. Here I will try to approach that performance without looking at his code. \n",
    "\n",
    "https://www.youtube.com/watch?v=X_DdGRjtwAo"
   ]
  },
  {
   "cell_type": "code",
   "execution_count": 1,
   "metadata": {},
   "outputs": [],
   "source": [
    "from time import time_ns\n",
    "from random import randint as ri\n",
    "import numpy as np\n",
    "\n",
    "def timing(func):\n",
    "    # This function shows the execution time of \n",
    "    # the function object passed\n",
    "    def wrap_func(*args, **kwargs):\n",
    "        t1 = time_ns()\n",
    "        result = func(*args, **kwargs)\n",
    "        t2 = time_ns()\n",
    "        td = (t2 - t1) / 1_000_000_000\n",
    "        print(f'Function {func.__name__!r} executed in {td:.4f}s')\n",
    "        return result\n",
    "    return wrap_func"
   ]
  },
  {
   "cell_type": "markdown",
   "metadata": {},
   "source": [
    "Let's start off with a basic program to do a million dice rolls with a variable number of sides and variable number of dice."
   ]
  },
  {
   "cell_type": "code",
   "execution_count": 2,
   "metadata": {},
   "outputs": [
    {
     "name": "stdout",
     "output_type": "stream",
     "text": [
      "A 20 sided dice has an average of 13.828616 \n",
      "after taking the maximum value of 2 dice after 1000000 simulations\n",
      "Function 'basic_roller' executed in 1.7580s\n"
     ]
    }
   ],
   "source": [
    "@timing\n",
    "def basic_roller(sides, simulations=1_000_000, dice_count=2):\n",
    "    values = []\n",
    "    for i in range(simulations):\n",
    "        cvalues = []\n",
    "        for roll in range(dice_count):\n",
    "            cvalues.append(ri(1, sides))\n",
    "        values.append(max(cvalues))\n",
    "    avg = np.mean(values)\n",
    "    print(f\"A {sides} sided dice has an average of {avg} \\nafter taking the maximum value of {dice_count} dice after {simulations} simulations\")\n",
    "    \n",
    "basic_roller(20)"
   ]
  },
  {
   "cell_type": "markdown",
   "metadata": {},
   "source": [
    "Single threaded and inefficient at 1.74s, that's a good start. Let's try a list comprehension."
   ]
  },
  {
   "cell_type": "code",
   "execution_count": 3,
   "metadata": {},
   "outputs": [
    {
     "name": "stdout",
     "output_type": "stream",
     "text": [
      "A 20 sided dice has an average of 13.820662 \n",
      "after taking the maximum value of 2 dice after 1000000 simulations\n",
      "Function 'list_comprehension_roller' executed in 1.7610s\n"
     ]
    }
   ],
   "source": [
    "@timing\n",
    "def list_comprehension_roller(sides, simulations=1_000_000, dice_count=2):\n",
    "    avg = np.mean([max([ri(1, sides) for y in range(dice_count)]) \n",
    "              for x in range(simulations)])\n",
    "    print(f\"A {sides} sided dice has an average of {avg} \\nafter taking the maximum value of {dice_count} dice after {simulations} simulations\")\n",
    "\n",
    "list_comprehension_roller(20)"
   ]
  },
  {
   "cell_type": "markdown",
   "metadata": {},
   "source": [
    "Well, that's about the same amount of time... let's try it with numpy. "
   ]
  },
  {
   "cell_type": "code",
   "execution_count": 4,
   "metadata": {},
   "outputs": [
    {
     "name": "stdout",
     "output_type": "stream",
     "text": [
      "A 20 sided dice has an average of 13.160772 \n",
      "after taking the maximum value of 2 dice after 1000000 simulations\n",
      "Function 'numpy_random_array' executed in 0.0250s\n"
     ]
    }
   ],
   "source": [
    "@timing\n",
    "def numpy_random_array(sides, simulations=1_000_000, dice_count=2):\n",
    "    rand_array = np.random.randint(1, sides, size=(simulations, dice_count))\n",
    "    maxes = rand_array.max(axis=1)\n",
    "    avg = np.mean(maxes)\n",
    "    print(f\"A {sides} sided dice has an average of {avg} \\nafter taking the maximum value of {dice_count} dice after {simulations} simulations\")\n",
    "\n",
    "    \n",
    "numpy_random_array(20)"
   ]
  },
  {
   "cell_type": "markdown",
   "metadata": {},
   "source": [
    "So that's super fast, let's see if we can do it in a single line."
   ]
  },
  {
   "cell_type": "code",
   "execution_count": 5,
   "metadata": {},
   "outputs": [
    {
     "name": "stdout",
     "output_type": "stream",
     "text": [
      "A 20 sided dice has an average of 13.165284 \n",
      "after taking the maximum value of 2 dice after 1000000 simulations\n",
      "Function 'numpy_random_array' executed in 0.0250s\n"
     ]
    }
   ],
   "source": [
    "@timing\n",
    "def numpy_random_array_sl(sides, simulations=1_000_000, dice_count=2):\n",
    "    avg = np.mean(np.random.randint(1, sides, size=(simulations, dice_count)).max(axis=1))\n",
    "    print(f\"A {sides} sided dice has an average of {avg} \\nafter taking the maximum value of {dice_count} dice after {simulations} simulations\")\n",
    "\n",
    "    \n",
    "numpy_random_array(20)"
   ]
  },
  {
   "cell_type": "markdown",
   "metadata": {},
   "source": [
    "So, about the same. \n",
    "Now let's look at Matt Parker's code from his GitHub linked in the video description. https://github.com/standupmaths/higher_of_two_rolls/blob/main/higher-of-two-rolls.py"
   ]
  },
  {
   "cell_type": "code",
   "execution_count": 6,
   "metadata": {},
   "outputs": [
    {
     "name": "stdout",
     "output_type": "stream",
     "text": [
      "How many sides on your dice? 20\n",
      "Average result of rolling two and taking the highest is about 13.830853\n",
      "Executed in 0.7080s\n"
     ]
    }
   ],
   "source": [
    "import random\n",
    "\n",
    "number_of_sides  =  int(input(\"How many sides on your dice? \"))\n",
    "t1 = time_ns()\n",
    "sum_of_results = 0.0\n",
    "\n",
    "trials = 0\n",
    "while trials < 10**6:\n",
    "    sum_of_results += max([int(random.random()*number_of_sides)+1,int(random.random()*number_of_sides)+1])\n",
    "    trials += 1\n",
    "\n",
    "print(\"Average result of rolling two and taking the highest is about {0}\".format(sum_of_results/trials))\n",
    "t2 = time_ns()\n",
    "td = (t2 - t1) / 1_000_000_000\n",
    "print(f'Executed in {td:.4f}s')"
   ]
  },
  {
   "cell_type": "markdown",
   "metadata": {},
   "source": [
    "I added some timing into the script, and we can see that his is slightly slower. "
   ]
  }
 ],
 "metadata": {
  "kernelspec": {
   "display_name": "Python 3 (ipykernel)",
   "language": "python",
   "name": "python3"
  },
  "language_info": {
   "codemirror_mode": {
    "name": "ipython",
    "version": 3
   },
   "file_extension": ".py",
   "mimetype": "text/x-python",
   "name": "python",
   "nbconvert_exporter": "python",
   "pygments_lexer": "ipython3",
   "version": "3.9.12"
  }
 },
 "nbformat": 4,
 "nbformat_minor": 4
}
